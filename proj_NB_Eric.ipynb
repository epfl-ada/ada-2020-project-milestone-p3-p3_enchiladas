{
 "cells": [
  {
   "cell_type": "markdown",
   "metadata": {},
   "source": [
    "# Analysis of the effect of ethnicity on food consumption in London"
   ]
  },
  {
   "cell_type": "markdown",
   "metadata": {},
   "source": [
    "- Does ethnic diversity have an effect on food consumption at area level? And if yes, what is its nature?\n",
    "- To which extent is the ethnic diversity responsible for the food consumption diversity of some aliment categories?\n",
    "- Can we attribute particular food habits to specific ethnic groups?"
   ]
  },
  {
   "cell_type": "markdown",
   "metadata": {},
   "source": [
    "The objective is to extend the Tesco dataset with a dataset containing numerous interesting socio-economic statistics in the London area. The analysis focuses on LSOA regions, which is the finest resolution available in the Tesco dataset. The proportion of inhabitants from various ethnicities is given for each LSOA in the additional dataset. We will first analyze the effect of ethnic diversity on food consumption. It will be based on the comparison of diversity of food categories consumed across LSOA regions and their ethnic diversity. We will then try to validate the observations we made by assessing if they still hold when other socio-economic aspects (such as mean wage for example) are taken into account. Depending on the results found, we will also investigate in greater details what impact specific ethnic populations may have on the food consumption."
   ]
  },
  {
   "cell_type": "markdown",
   "metadata": {},
   "source": [
    "## Table of content "
   ]
  },
  {
   "cell_type": "markdown",
   "metadata": {},
   "source": []
  },
  {
   "cell_type": "markdown",
   "metadata": {},
   "source": [
    "## 1. Set the environment and perform exploratory analysis"
   ]
  },
  {
   "cell_type": "markdown",
   "metadata": {},
   "source": [
    "### Import the packages "
   ]
  },
  {
   "cell_type": "code",
   "execution_count": 1,
   "metadata": {},
   "outputs": [],
   "source": [
    "import numpy as np\n",
    "import seaborn as sns\n",
    "import matplotlib.pyplot as plt\n",
    "import pandas as pd\n",
    "import geopandas as gpd\n",
    "import plotly\n",
    "import plotly.express as px\n",
    "import scipy\n",
    "from scipy.stats import spearmanr\n",
    "import os"
   ]
  },
  {
   "cell_type": "markdown",
   "metadata": {},
   "source": [
    "### Define the paths of the different datasets use for the analysis\n",
    "Three main datasets are used for this project:\n",
    "- **Tesco dataset**: besides the nutrients information used in the validation analysis of the paper, this dataset offers information on the purchases of different products at the area level. It's those information that will be used in our project at the LSOA level. \n",
    "- **Socio-economic dataset of the LSOA**: this dataset provides socio-economic information at the LSOA level. Combining this dataset with the Tesco one will allow us to put into perspective the ethnicity of the population with their food consumption. \n",
    "- **Geographical information dataset of the LSOA**: this dataset will be used for visualization purposes as it will allow to display some of the results on the London map with relevant values assigned to each geographical region representing the LSOA. "
   ]
  },
  {
   "cell_type": "code",
   "execution_count": 2,
   "metadata": {},
   "outputs": [],
   "source": [
    "GEO_LSOA_PATH = os.getcwd() + '/data/Geo_data/LSOA_2011_London_gen_MHW.shp'\n",
    "TESCO_PATH = os.getcwd() + '/data/Area_level_data/year_lsoa_grocery.csv'\n",
    "SOCIO_ECO_LSOA_PATH = os.getcwd() + '/data/lsoa-data.csv'"
   ]
  },
  {
   "cell_type": "markdown",
   "metadata": {},
   "source": [
    "### Define some functions that will be used throughout the project\n",
    "The roles of the functions define below are the following:\n",
    "- `load_merge_clean_data()`: this function takes as input the paths of the three datasets used in this project. It will load those different datasets and process them to return one single dataset containing the information of the three datasets of interest.\n",
    "- `plot_map()`: this function allows to display a feature on the London map with its values assigned to each geographical region representing the LSOA. It takes as input the dataframe considered (that should contain the geographical information) as well as the name of the feature to be plotted on the map, if this feature is part of the dataframe, OR the feature array can directly be given as an input as well. "
   ]
  },
  {
   "cell_type": "code",
   "execution_count": 3,
   "metadata": {},
   "outputs": [],
   "source": [
    "###############################################################################################################\n",
    "#############################     Load merge and clean function      ##########################################\n",
    "###############################################################################################################\n",
    "\n",
    "def load_merge_clean_data(TESCO_PATH, SOCIO_ECO_LSOA_PATH, GEO_LSOA_PATH):\n",
    "    '''\n",
    "    This function load the different datasets used for the analysis,\n",
    "    clean and merge those datasets together to obtain as an output one single panda dataframe\n",
    "    with the socio-economic, the Tesco and the geography information of each LSOA\n",
    "    '''\n",
    "    # load the data with the geography information of each LSOA\n",
    "    map_df = gpd.read_file(GEO_LSOA_PATH)\n",
    "    # set the index of this dataframe to the code of each LSOA to facilitate the merge of the dataframes\n",
    "    map_df.index = map_df['LSOA11CD']\n",
    "    \n",
    "    # load the data with the Tesco information of each LSOA\n",
    "    data_df = pd.read_csv(TESCO_PATH)\n",
    "    \n",
    "    # merge the Tesco dataframe with the one with the geo information of the corresponding regions  \n",
    "    merged_map_df = map_df.join(data_df.set_index('area_id'))\n",
    "    \n",
    "    # convert coordinates that are in UTM format into latitude longitude (to plot the results on a map)\n",
    "    merged_map_df = merged_map_df.to_crs({'init': 'epsg:4326'}) # cause of the warning\n",
    "    \n",
    "    # load the data with the socio-economic information of each LSOA\n",
    "    lsoa_df = pd.read_csv(SOCIO_ECO_LSOA_PATH, encoding = \"ISO-8859-1\", engine='python')\n",
    "    # drop the last 2 rows that are full of nan (due to the format of the title of the columns (3 rows))\n",
    "    lsoa_df.drop(lsoa_df.tail(2).index,inplace=True)\n",
    "    \n",
    "    # merge the merged dataframe with  the socio-economic dataframe of the corresponding regions  \n",
    "    merged_map_lsoa_df = merged_map_df.join(lsoa_df.set_index('Lower Super Output Area'))\n",
    "    \n",
    "    # set the index of this dataframe to the name of each LSOA to obtain more comprehensive data\n",
    "    merged_map_lsoa_df.index = merged_map_lsoa_df['LSOA11NM']\n",
    "    \n",
    "    # remove the rows for which we don't have data everywhere \n",
    "    # consider the feature of population to determine where we lack some information\n",
    "    population = np.array((merged_map_lsoa_df['population'])) \n",
    "    merged_map_lsoa_df = merged_map_lsoa_df[np.logical_not(np.isnan(population))]\n",
    "    \n",
    "    \n",
    "    # REMOVE SPACES IN COLUMN NAMES\n",
    "    merged_map_lsoa_df.columns = merged_map_lsoa_df.columns.str.replace(' ', '_')\n",
    "    \n",
    "    # return this final merged and cleaned dataset\n",
    "    return merged_map_lsoa_df\n",
    "\n",
    "\n",
    "###############################################################################################################\n",
    "#####################################     Plot functions     ##################################################\n",
    "###############################################################################################################\n",
    "\n",
    "def plot_map(dataframe, name_feature, color = 'magma', opacity = 0.9):\n",
    "    '''\n",
    "    plot the feature of the dataframe on the London map\n",
    "    '''\n",
    "    fig = px.choropleth_mapbox(dataframe,\n",
    "                               geojson=dataframe.geometry,\n",
    "                               locations=dataframe.index,\n",
    "                               color=name_feature,\n",
    "                               center={\"lat\": 51.49, \"lon\": -0.127},\n",
    "                               mapbox_style=\"carto-positron\",\n",
    "                               opacity = opacity,\n",
    "                               color_continuous_scale = color, # https://plotly.com/python/colorscales/   \n",
    "                               # magma, viridis\n",
    "                               zoom=9)\n",
    "\n",
    "    fig.update_layout(height = 500, margin={\"r\":0,\"t\":0,\"l\":0,\"b\":0})\n",
    "    fig.show()"
   ]
  },
  {
   "cell_type": "markdown",
   "metadata": {},
   "source": [
    "### Create the dataframe with all the information of the three datasets of interest"
   ]
  },
  {
   "cell_type": "code",
   "execution_count": 4,
   "metadata": {},
   "outputs": [
    {
     "data": {
      "text/html": [
       "<div>\n",
       "<style scoped>\n",
       "    .dataframe tbody tr th:only-of-type {\n",
       "        vertical-align: middle;\n",
       "    }\n",
       "\n",
       "    .dataframe tbody tr th {\n",
       "        vertical-align: top;\n",
       "    }\n",
       "\n",
       "    .dataframe thead th {\n",
       "        text-align: right;\n",
       "    }\n",
       "</style>\n",
       "<table border=\"1\" class=\"dataframe\">\n",
       "  <thead>\n",
       "    <tr style=\"text-align: right;\">\n",
       "      <th></th>\n",
       "      <th>LSOA11CD</th>\n",
       "      <th>LSOA11NM</th>\n",
       "      <th>MSOA11CD</th>\n",
       "      <th>MSOA11NM</th>\n",
       "      <th>LAD11CD</th>\n",
       "      <th>LAD11NM</th>\n",
       "      <th>RGN11CD</th>\n",
       "      <th>RGN11NM</th>\n",
       "      <th>USUALRES</th>\n",
       "      <th>HHOLDRES</th>\n",
       "      <th>...</th>\n",
       "      <th>Road_Casualties;2012;Slight</th>\n",
       "      <th>Road_Casualties;2012;2012_Total</th>\n",
       "      <th>Road_Casualties;2013;Fatal</th>\n",
       "      <th>Road_Casualties;2013;Serious</th>\n",
       "      <th>Road_Casualties;2013;Slight</th>\n",
       "      <th>Road_Casualties;2013;2013_Total</th>\n",
       "      <th>Road_Casualties;2014;Fatal</th>\n",
       "      <th>Road_Casualties;2014;Serious</th>\n",
       "      <th>Road_Casualties;2014;Slight</th>\n",
       "      <th>Road_Casualties;2014;2014_Total</th>\n",
       "    </tr>\n",
       "    <tr>\n",
       "      <th>LSOA11NM</th>\n",
       "      <th></th>\n",
       "      <th></th>\n",
       "      <th></th>\n",
       "      <th></th>\n",
       "      <th></th>\n",
       "      <th></th>\n",
       "      <th></th>\n",
       "      <th></th>\n",
       "      <th></th>\n",
       "      <th></th>\n",
       "      <th></th>\n",
       "      <th></th>\n",
       "      <th></th>\n",
       "      <th></th>\n",
       "      <th></th>\n",
       "      <th></th>\n",
       "      <th></th>\n",
       "      <th></th>\n",
       "      <th></th>\n",
       "      <th></th>\n",
       "      <th></th>\n",
       "    </tr>\n",
       "  </thead>\n",
       "  <tbody>\n",
       "    <tr>\n",
       "      <th>City of London 001A</th>\n",
       "      <td>E01000001</td>\n",
       "      <td>City of London 001A</td>\n",
       "      <td>E02000001</td>\n",
       "      <td>City of London 001</td>\n",
       "      <td>E09000001</td>\n",
       "      <td>City of London</td>\n",
       "      <td>E12000007</td>\n",
       "      <td>London</td>\n",
       "      <td>1465</td>\n",
       "      <td>1465</td>\n",
       "      <td>...</td>\n",
       "      <td>14.0</td>\n",
       "      <td>16.0</td>\n",
       "      <td>0.0</td>\n",
       "      <td>3.0</td>\n",
       "      <td>10.0</td>\n",
       "      <td>13.0</td>\n",
       "      <td>0.0</td>\n",
       "      <td>2.0</td>\n",
       "      <td>10.0</td>\n",
       "      <td>12.0</td>\n",
       "    </tr>\n",
       "    <tr>\n",
       "      <th>City of London 001B</th>\n",
       "      <td>E01000002</td>\n",
       "      <td>City of London 001B</td>\n",
       "      <td>E02000001</td>\n",
       "      <td>City of London 001</td>\n",
       "      <td>E09000001</td>\n",
       "      <td>City of London</td>\n",
       "      <td>E12000007</td>\n",
       "      <td>London</td>\n",
       "      <td>1436</td>\n",
       "      <td>1436</td>\n",
       "      <td>...</td>\n",
       "      <td>8.0</td>\n",
       "      <td>9.0</td>\n",
       "      <td>0.0</td>\n",
       "      <td>1.0</td>\n",
       "      <td>5.0</td>\n",
       "      <td>6.0</td>\n",
       "      <td>0.0</td>\n",
       "      <td>0.0</td>\n",
       "      <td>9.0</td>\n",
       "      <td>9.0</td>\n",
       "    </tr>\n",
       "    <tr>\n",
       "      <th>City of London 001C</th>\n",
       "      <td>E01000003</td>\n",
       "      <td>City of London 001C</td>\n",
       "      <td>E02000001</td>\n",
       "      <td>City of London 001</td>\n",
       "      <td>E09000001</td>\n",
       "      <td>City of London</td>\n",
       "      <td>E12000007</td>\n",
       "      <td>London</td>\n",
       "      <td>1346</td>\n",
       "      <td>1250</td>\n",
       "      <td>...</td>\n",
       "      <td>2.0</td>\n",
       "      <td>2.0</td>\n",
       "      <td>0.0</td>\n",
       "      <td>0.0</td>\n",
       "      <td>0.0</td>\n",
       "      <td>0.0</td>\n",
       "      <td>0.0</td>\n",
       "      <td>0.0</td>\n",
       "      <td>2.0</td>\n",
       "      <td>2.0</td>\n",
       "    </tr>\n",
       "    <tr>\n",
       "      <th>City of London 001E</th>\n",
       "      <td>E01000005</td>\n",
       "      <td>City of London 001E</td>\n",
       "      <td>E02000001</td>\n",
       "      <td>City of London 001</td>\n",
       "      <td>E09000001</td>\n",
       "      <td>City of London</td>\n",
       "      <td>E12000007</td>\n",
       "      <td>London</td>\n",
       "      <td>985</td>\n",
       "      <td>985</td>\n",
       "      <td>...</td>\n",
       "      <td>22.0</td>\n",
       "      <td>24.0</td>\n",
       "      <td>0.0</td>\n",
       "      <td>5.0</td>\n",
       "      <td>15.0</td>\n",
       "      <td>20.0</td>\n",
       "      <td>1.0</td>\n",
       "      <td>0.0</td>\n",
       "      <td>20.0</td>\n",
       "      <td>21.0</td>\n",
       "    </tr>\n",
       "    <tr>\n",
       "      <th>Barking and Dagenham 016A</th>\n",
       "      <td>E01000006</td>\n",
       "      <td>Barking and Dagenham 016A</td>\n",
       "      <td>E02000017</td>\n",
       "      <td>Barking and Dagenham 016</td>\n",
       "      <td>E09000002</td>\n",
       "      <td>Barking and Dagenham</td>\n",
       "      <td>E12000007</td>\n",
       "      <td>London</td>\n",
       "      <td>1703</td>\n",
       "      <td>1699</td>\n",
       "      <td>...</td>\n",
       "      <td>0.0</td>\n",
       "      <td>0.0</td>\n",
       "      <td>0.0</td>\n",
       "      <td>0.0</td>\n",
       "      <td>4.0</td>\n",
       "      <td>4.0</td>\n",
       "      <td>0.0</td>\n",
       "      <td>0.0</td>\n",
       "      <td>3.0</td>\n",
       "      <td>3.0</td>\n",
       "    </tr>\n",
       "  </tbody>\n",
       "</table>\n",
       "<p>5 rows × 492 columns</p>\n",
       "</div>"
      ],
      "text/plain": [
       "                            LSOA11CD                   LSOA11NM   MSOA11CD  \\\n",
       "LSOA11NM                                                                     \n",
       "City of London 001A        E01000001        City of London 001A  E02000001   \n",
       "City of London 001B        E01000002        City of London 001B  E02000001   \n",
       "City of London 001C        E01000003        City of London 001C  E02000001   \n",
       "City of London 001E        E01000005        City of London 001E  E02000001   \n",
       "Barking and Dagenham 016A  E01000006  Barking and Dagenham 016A  E02000017   \n",
       "\n",
       "                                           MSOA11NM    LAD11CD  \\\n",
       "LSOA11NM                                                         \n",
       "City of London 001A              City of London 001  E09000001   \n",
       "City of London 001B              City of London 001  E09000001   \n",
       "City of London 001C              City of London 001  E09000001   \n",
       "City of London 001E              City of London 001  E09000001   \n",
       "Barking and Dagenham 016A  Barking and Dagenham 016  E09000002   \n",
       "\n",
       "                                        LAD11NM    RGN11CD RGN11NM  USUALRES  \\\n",
       "LSOA11NM                                                                       \n",
       "City of London 001A              City of London  E12000007  London      1465   \n",
       "City of London 001B              City of London  E12000007  London      1436   \n",
       "City of London 001C              City of London  E12000007  London      1346   \n",
       "City of London 001E              City of London  E12000007  London       985   \n",
       "Barking and Dagenham 016A  Barking and Dagenham  E12000007  London      1703   \n",
       "\n",
       "                           HHOLDRES  ...  Road_Casualties;2012;Slight  \\\n",
       "LSOA11NM                             ...                                \n",
       "City of London 001A            1465  ...                         14.0   \n",
       "City of London 001B            1436  ...                          8.0   \n",
       "City of London 001C            1250  ...                          2.0   \n",
       "City of London 001E             985  ...                         22.0   \n",
       "Barking and Dagenham 016A      1699  ...                          0.0   \n",
       "\n",
       "                           Road_Casualties;2012;2012_Total  \\\n",
       "LSOA11NM                                                     \n",
       "City of London 001A                                   16.0   \n",
       "City of London 001B                                    9.0   \n",
       "City of London 001C                                    2.0   \n",
       "City of London 001E                                   24.0   \n",
       "Barking and Dagenham 016A                              0.0   \n",
       "\n",
       "                           Road_Casualties;2013;Fatal  \\\n",
       "LSOA11NM                                                \n",
       "City of London 001A                               0.0   \n",
       "City of London 001B                               0.0   \n",
       "City of London 001C                               0.0   \n",
       "City of London 001E                               0.0   \n",
       "Barking and Dagenham 016A                         0.0   \n",
       "\n",
       "                           Road_Casualties;2013;Serious  \\\n",
       "LSOA11NM                                                  \n",
       "City of London 001A                                 3.0   \n",
       "City of London 001B                                 1.0   \n",
       "City of London 001C                                 0.0   \n",
       "City of London 001E                                 5.0   \n",
       "Barking and Dagenham 016A                           0.0   \n",
       "\n",
       "                          Road_Casualties;2013;Slight  \\\n",
       "LSOA11NM                                                \n",
       "City of London 001A                              10.0   \n",
       "City of London 001B                               5.0   \n",
       "City of London 001C                               0.0   \n",
       "City of London 001E                              15.0   \n",
       "Barking and Dagenham 016A                         4.0   \n",
       "\n",
       "                           Road_Casualties;2013;2013_Total  \\\n",
       "LSOA11NM                                                     \n",
       "City of London 001A                                   13.0   \n",
       "City of London 001B                                    6.0   \n",
       "City of London 001C                                    0.0   \n",
       "City of London 001E                                   20.0   \n",
       "Barking and Dagenham 016A                              4.0   \n",
       "\n",
       "                           Road_Casualties;2014;Fatal  \\\n",
       "LSOA11NM                                                \n",
       "City of London 001A                               0.0   \n",
       "City of London 001B                               0.0   \n",
       "City of London 001C                               0.0   \n",
       "City of London 001E                               1.0   \n",
       "Barking and Dagenham 016A                         0.0   \n",
       "\n",
       "                           Road_Casualties;2014;Serious  \\\n",
       "LSOA11NM                                                  \n",
       "City of London 001A                                 2.0   \n",
       "City of London 001B                                 0.0   \n",
       "City of London 001C                                 0.0   \n",
       "City of London 001E                                 0.0   \n",
       "Barking and Dagenham 016A                           0.0   \n",
       "\n",
       "                           Road_Casualties;2014;Slight  \\\n",
       "LSOA11NM                                                 \n",
       "City of London 001A                               10.0   \n",
       "City of London 001B                                9.0   \n",
       "City of London 001C                                2.0   \n",
       "City of London 001E                               20.0   \n",
       "Barking and Dagenham 016A                          3.0   \n",
       "\n",
       "                           Road_Casualties;2014;2014_Total  \n",
       "LSOA11NM                                                    \n",
       "City of London 001A                                   12.0  \n",
       "City of London 001B                                    9.0  \n",
       "City of London 001C                                    2.0  \n",
       "City of London 001E                                   21.0  \n",
       "Barking and Dagenham 016A                              3.0  \n",
       "\n",
       "[5 rows x 492 columns]"
      ]
     },
     "execution_count": 4,
     "metadata": {},
     "output_type": "execute_result"
    }
   ],
   "source": [
    "full_df = load_merge_clean_data(TESCO_PATH, SOCIO_ECO_LSOA_PATH, GEO_LSOA_PATH)\n",
    "full_df.head(5)"
   ]
  },
  {
   "cell_type": "code",
   "execution_count": 5,
   "metadata": {},
   "outputs": [],
   "source": [
    "# for col in full_df.columns:\n",
    "#     print(col)"
   ]
  },
  {
   "cell_type": "markdown",
   "metadata": {},
   "source": [
    "## Computation of new features"
   ]
  },
  {
   "cell_type": "markdown",
   "metadata": {},
   "source": [
    "new entropies"
   ]
  },
  {
   "cell_type": "code",
   "execution_count": 6,
   "metadata": {},
   "outputs": [],
   "source": [
    "def compute_entropies(df, f_col_list):\n",
    "    \n",
    "    f_df = df[f_col_list]\n",
    "    n_col = len(f_col_list)\n",
    "        \n",
    "    h_df = pd.DataFrame()\n",
    "    \n",
    "    # compute intermediates values inside the sum of eq (12)\n",
    "    for col in f_df.columns:\n",
    "        col_val = f_df[col] * np.log2(f_df[col])\n",
    "        h_df.insert(len(h_df.columns), col, col_val, True)\n",
    "    \n",
    "    # compute the entropy as the sum of the intermediates values\n",
    "    h = - h_df.sum(axis=1)\n",
    "    h_df.insert(0, 'h', h, True)\n",
    "\n",
    "    # remove all the intermediate values from the dataframe\n",
    "    h_df = h_df.iloc[:, :1]\n",
    "\n",
    "    # normalization\n",
    "    h_df['h_norm'] = h_df['h'] / np.log2(n_col)\n",
    "    \n",
    "    return h_df['h'].values, h_df['h_norm'].values"
   ]
  },
  {
   "cell_type": "markdown",
   "metadata": {},
   "source": [
    "To make a difference between food and drinks, in addition to the already present h_items, we compute two new category entropies taking only part of the items in consideration h_food and h_drink with their normalizer conterparts"
   ]
  },
  {
   "cell_type": "code",
   "execution_count": 7,
   "metadata": {},
   "outputs": [],
   "source": [
    "food_col_list = ['f_dairy',\n",
    "                 'f_eggs',\n",
    "                 'f_fats_oils',\n",
    "                 'f_fish',\n",
    "                 'f_fruit_veg',\n",
    "                 'f_grains',\n",
    "                 'f_meat_red',\n",
    "                 'f_poultry',\n",
    "                 'f_readymade',\n",
    "                 'f_sauces',\n",
    "                 'f_sweets']\n",
    "\n",
    "h_items_food, h_items_food_norm = compute_entropies(full_df, food_col_list)\n",
    "\n",
    "# insert two new columns\n",
    "new_h_idx = full_df.columns.get_loc('h_items') \n",
    "full_df.insert(new_h_idx, 'h_items_food_norm', h_items_food_norm.tolist(), True)\n",
    "full_df.insert(new_h_idx, 'h_items_food', h_items_food.tolist(), True)"
   ]
  },
  {
   "cell_type": "code",
   "execution_count": 8,
   "metadata": {},
   "outputs": [],
   "source": [
    "drink_col_list = ['f_beer',\n",
    "                  'f_soft_drinks',\n",
    "                  'f_spirits',\n",
    "                  'f_tea_coffee',\n",
    "                  'f_water',\n",
    "                  'f_wine']\n",
    "\n",
    "h_items_drink, h_items_drink_norm = compute_entropies(full_df, drink_col_list)\n",
    "\n",
    "# insert two new columns\n",
    "new_h_idx = full_df.columns.get_loc('h_items') \n",
    "full_df.insert(new_h_idx, 'h_items_drink_norm', h_items_drink_norm.tolist(), True)\n",
    "full_df.insert(new_h_idx, 'h_items_drink', h_items_drink.tolist(), True)"
   ]
  },
  {
   "cell_type": "markdown",
   "metadata": {},
   "source": [
    "We then compute an entropy of the diverse ethnic groups in each area to get a sense of the racial diversity of the area\n",
    "\n",
    "For our entropy computation, we need the representation of each ethnic groups to be described as a probability between 0 and 1 instead of a percentage value, we will modify those columns accordingly in the dataframe"
   ]
  },
  {
   "cell_type": "code",
   "execution_count": 9,
   "metadata": {},
   "outputs": [
    {
     "name": "stderr",
     "output_type": "stream",
     "text": [
      "/opt/anaconda3/envs/Geopandas_env/lib/python3.8/site-packages/pandas/core/series.py:726: RuntimeWarning: divide by zero encountered in log2\n",
      "  result = getattr(ufunc, method)(*inputs, **kwargs)\n"
     ]
    }
   ],
   "source": [
    "# divide by 100 not to have them in a percent format for entropy computation\n",
    "full_df.loc[:, 'Ethnic_Group;White_(%);2011':'Ethnic_Group;Other_ethnic_group_(%);2011'] /= 100\n",
    "\n",
    "\n",
    "# Those are not % anymore, rename them with naming convention coherent with the naming scheme in Tesco data\n",
    "old_names = ['Ethnic_Group;White_(%);2011',\n",
    "             'Ethnic_Group;Mixed/multiple_ethnic_groups_(%);2011',\n",
    "             'Ethnic_Group;Asian/Asian_British_(%);2011',\n",
    "             'Ethnic_Group;Black/African/Caribbean/Black_British_(%);2011',\n",
    "             'Ethnic_Group;Other_ethnic_group_(%);2011']\n",
    "\n",
    "new_names = ['Ethnic_Group;f_White;2011',\n",
    "             'Ethnic_Group;f_Mixed/multiple_ethnic_groups;2011',\n",
    "             'Ethnic_Group;f_Asian/Asian_British;2011',\n",
    "             'Ethnic_Group;f_Black/African/Caribbean/Black_British;2011',\n",
    "             'Ethnic_Group;f_Other_ethnic_group;2011']\n",
    "rename_dict = dict(zip(old_names, new_names))\n",
    "full_df.rename(columns = rename_dict, inplace = True)\n",
    "\n",
    "h_ethnicity, h_ethnicity_norm = compute_entropies(full_df, new_names)\n",
    "\n",
    "# insert two new columns\n",
    "new_h_idx = full_df.columns.get_loc('Country_of_Birth;United_Kingdom;2011') \n",
    "full_df.insert(new_h_idx, 'Ethnic_Group;h_ethnicities_norm;2011', h_ethnicity_norm.tolist(), True)\n",
    "full_df.insert(new_h_idx, 'Ethnic_Group;h_ethnicities;2011', h_ethnicity.tolist(), True)"
   ]
  },
  {
   "cell_type": "markdown",
   "metadata": {},
   "source": [
    "# Filter by representativity\n",
    "\n",
    "To keep only the most representative areas for our analysis, we filter the dataset by representativity score as described in the Tesco paper"
   ]
  },
  {
   "cell_type": "code",
   "execution_count": 10,
   "metadata": {},
   "outputs": [
    {
     "name": "stdout",
     "output_type": "stream",
     "text": [
      "(749, 498)\n"
     ]
    }
   ],
   "source": [
    "repr_df = full_df[full_df['representativeness_norm'] > 0.3]\n",
    "print(repr_df.shape)\n",
    "#repr_df.head(5)"
   ]
  },
  {
   "cell_type": "markdown",
   "metadata": {},
   "source": [
    "# Correlation analysis\n",
    "\n",
    "To begin our analysis, we compute the correlations between the ethnicity and the product categories at different level of granularity. We used spearman rank correlation.\n",
    "\n",
    "- Correlation between h_ethnicity_norm and h_food_norm, h_drink_norm\n",
    "- Correlation between the different proportions of ethnic groups and h_food_norm, h_drink_norm\n",
    "- Correlation between the different propotrions of ethnic groups and different propotrions of items gategory"
   ]
  },
  {
   "cell_type": "markdown",
   "metadata": {},
   "source": [
    "## Correlation between h_ethnicity_norm and h_food_norm, h_drink_norm"
   ]
  },
  {
   "cell_type": "code",
   "execution_count": 11,
   "metadata": {},
   "outputs": [
    {
     "data": {
      "text/html": [
       "<div>\n",
       "<style scoped>\n",
       "    .dataframe tbody tr th:only-of-type {\n",
       "        vertical-align: middle;\n",
       "    }\n",
       "\n",
       "    .dataframe tbody tr th {\n",
       "        vertical-align: top;\n",
       "    }\n",
       "\n",
       "    .dataframe thead th {\n",
       "        text-align: right;\n",
       "    }\n",
       "</style>\n",
       "<table border=\"1\" class=\"dataframe\">\n",
       "  <thead>\n",
       "    <tr style=\"text-align: right;\">\n",
       "      <th></th>\n",
       "      <th>Category</th>\n",
       "      <th>R</th>\n",
       "      <th>p-value</th>\n",
       "    </tr>\n",
       "  </thead>\n",
       "  <tbody>\n",
       "    <tr>\n",
       "      <th>0</th>\n",
       "      <td>food</td>\n",
       "      <td>0.127450</td>\n",
       "      <td>4.714695e-04</td>\n",
       "    </tr>\n",
       "    <tr>\n",
       "      <th>1</th>\n",
       "      <td>drink</td>\n",
       "      <td>0.206212</td>\n",
       "      <td>1.230239e-08</td>\n",
       "    </tr>\n",
       "  </tbody>\n",
       "</table>\n",
       "</div>"
      ],
      "text/plain": [
       "  Category         R       p-value\n",
       "0     food  0.127450  4.714695e-04\n",
       "1    drink  0.206212  1.230239e-08"
      ]
     },
     "execution_count": 11,
     "metadata": {},
     "output_type": "execute_result"
    }
   ],
   "source": [
    "h_ethnicity = repr_df['Ethnic_Group;h_ethnicities_norm;2011'].values\n",
    "h_items_food = repr_df['h_items_food_norm'].values\n",
    "h_items_drink = repr_df['h_items_drink_norm'].values\n",
    "\n",
    "rho_food, p_food = spearmanr(h_ethnicity, h_items_food)\n",
    "rho_drink, p_drinks = spearmanr(h_ethnicity, h_items_drink)\n",
    "\n",
    "d = {'Category': ['food', 'drink'],\n",
    "     'R': [rho_food, rho_drink],\n",
    "     'p-value': [p_food, p_drinks]}\n",
    "hh_corr_df = pd.DataFrame(data=d)\n",
    "hh_corr_df"
   ]
  },
  {
   "cell_type": "markdown",
   "metadata": {},
   "source": [
    "### Visualization"
   ]
  },
  {
   "cell_type": "code",
   "execution_count": 12,
   "metadata": {},
   "outputs": [
    {
     "data": {
      "image/png": "[encoded data removed]",
      "text/plain": [
       "<Figure size 720x360 with 1 Axes>"
      ]
     },
     "metadata": {},
     "output_type": "display_data"
    }
   ],
   "source": [
    "# keep only the significant data\n",
    "hh_plot_df = hh_corr_df[hh_corr_df['p-value'] < 0.05]\n",
    "\n",
    "sns.set_style(\"dark\")\n",
    "\n",
    "plt.figure(figsize=(10,5))\n",
    "ax = sns.barplot(x='Category', y='R', data=hh_plot_df, palette='dark', alpha=.6)\n",
    "ax.grid(axis='y')\n",
    "ax.set_ylabel('R')\n",
    "plt.xticks(rotation=90 )\n",
    "ax.axhline(y=0, color='k', linestyle='-')\n",
    "ax.set_title('Spearman rank correlation between ethnic diversity and food category diversity')\n",
    "plt.show()"
   ]
  },
  {
   "cell_type": "markdown",
   "metadata": {},
   "source": [
    "## Correlation between the different proportions of ethnic groups and h_food_norm, h_drink_norm"
   ]
  },
  {
   "cell_type": "code",
   "execution_count": 13,
   "metadata": {},
   "outputs": [
    {
     "data": {
      "text/html": [
       "<div>\n",
       "<style scoped>\n",
       "    .dataframe tbody tr th:only-of-type {\n",
       "        vertical-align: middle;\n",
       "    }\n",
       "\n",
       "    .dataframe tbody tr th {\n",
       "        vertical-align: top;\n",
       "    }\n",
       "\n",
       "    .dataframe thead th {\n",
       "        text-align: right;\n",
       "    }\n",
       "</style>\n",
       "<table border=\"1\" class=\"dataframe\">\n",
       "  <thead>\n",
       "    <tr style=\"text-align: right;\">\n",
       "      <th></th>\n",
       "      <th>Ethnicity</th>\n",
       "      <th>Category</th>\n",
       "      <th>R</th>\n",
       "      <th>p-value</th>\n",
       "    </tr>\n",
       "  </thead>\n",
       "  <tbody>\n",
       "    <tr>\n",
       "      <th>0</th>\n",
       "      <td>Ethnic_Group;f_White;2011</td>\n",
       "      <td>food</td>\n",
       "      <td>0.094062</td>\n",
       "      <td>1.000388e-02</td>\n",
       "    </tr>\n",
       "    <tr>\n",
       "      <th>1</th>\n",
       "      <td>Ethnic_Group;f_White;2011</td>\n",
       "      <td>drink</td>\n",
       "      <td>-0.088947</td>\n",
       "      <td>1.489015e-02</td>\n",
       "    </tr>\n",
       "    <tr>\n",
       "      <th>2</th>\n",
       "      <td>Ethnic_Group;f_Mixed/multiple_ethnic_groups;2011</td>\n",
       "      <td>food</td>\n",
       "      <td>0.354019</td>\n",
       "      <td>1.552519e-23</td>\n",
       "    </tr>\n",
       "    <tr>\n",
       "      <th>3</th>\n",
       "      <td>Ethnic_Group;f_Mixed/multiple_ethnic_groups;2011</td>\n",
       "      <td>drink</td>\n",
       "      <td>0.360424</td>\n",
       "      <td>2.150611e-24</td>\n",
       "    </tr>\n",
       "    <tr>\n",
       "      <th>4</th>\n",
       "      <td>Ethnic_Group;f_Asian/Asian_British;2011</td>\n",
       "      <td>food</td>\n",
       "      <td>-0.435901</td>\n",
       "      <td>4.370948e-36</td>\n",
       "    </tr>\n",
       "    <tr>\n",
       "      <th>5</th>\n",
       "      <td>Ethnic_Group;f_Asian/Asian_British;2011</td>\n",
       "      <td>drink</td>\n",
       "      <td>-0.313221</td>\n",
       "      <td>1.638651e-18</td>\n",
       "    </tr>\n",
       "    <tr>\n",
       "      <th>6</th>\n",
       "      <td>Ethnic_Group;f_Black/African/Caribbean/Black_B...</td>\n",
       "      <td>food</td>\n",
       "      <td>0.379756</td>\n",
       "      <td>4.173757e-27</td>\n",
       "    </tr>\n",
       "    <tr>\n",
       "      <th>7</th>\n",
       "      <td>Ethnic_Group;f_Black/African/Caribbean/Black_B...</td>\n",
       "      <td>drink</td>\n",
       "      <td>0.431083</td>\n",
       "      <td>3.017275e-35</td>\n",
       "    </tr>\n",
       "    <tr>\n",
       "      <th>8</th>\n",
       "      <td>Ethnic_Group;f_Other_ethnic_group;2011</td>\n",
       "      <td>food</td>\n",
       "      <td>-0.011311</td>\n",
       "      <td>7.572808e-01</td>\n",
       "    </tr>\n",
       "    <tr>\n",
       "      <th>9</th>\n",
       "      <td>Ethnic_Group;f_Other_ethnic_group;2011</td>\n",
       "      <td>drink</td>\n",
       "      <td>-0.038097</td>\n",
       "      <td>2.977484e-01</td>\n",
       "    </tr>\n",
       "  </tbody>\n",
       "</table>\n",
       "</div>"
      ],
      "text/plain": [
       "                                           Ethnicity Category         R  \\\n",
       "0                          Ethnic_Group;f_White;2011     food  0.094062   \n",
       "1                          Ethnic_Group;f_White;2011    drink -0.088947   \n",
       "2   Ethnic_Group;f_Mixed/multiple_ethnic_groups;2011     food  0.354019   \n",
       "3   Ethnic_Group;f_Mixed/multiple_ethnic_groups;2011    drink  0.360424   \n",
       "4            Ethnic_Group;f_Asian/Asian_British;2011     food -0.435901   \n",
       "5            Ethnic_Group;f_Asian/Asian_British;2011    drink -0.313221   \n",
       "6  Ethnic_Group;f_Black/African/Caribbean/Black_B...     food  0.379756   \n",
       "7  Ethnic_Group;f_Black/African/Caribbean/Black_B...    drink  0.431083   \n",
       "8             Ethnic_Group;f_Other_ethnic_group;2011     food -0.011311   \n",
       "9             Ethnic_Group;f_Other_ethnic_group;2011    drink -0.038097   \n",
       "\n",
       "        p-value  \n",
       "0  1.000388e-02  \n",
       "1  1.489015e-02  \n",
       "2  1.552519e-23  \n",
       "3  2.150611e-24  \n",
       "4  4.370948e-36  \n",
       "5  1.638651e-18  \n",
       "6  4.173757e-27  \n",
       "7  3.017275e-35  \n",
       "8  7.572808e-01  \n",
       "9  2.977484e-01  "
      ]
     },
     "execution_count": 13,
     "metadata": {},
     "output_type": "execute_result"
    }
   ],
   "source": [
    "f_ethnicity_idx_lo = repr_df.columns.get_loc('Ethnic_Group;f_White;2011')\n",
    "f_ethnicity_idx_hi = repr_df.columns.get_loc('Ethnic_Group;f_Other_ethnic_group;2011')+1\n",
    "\n",
    "# list containing the name of the ethnic groups\n",
    "ethnicity_col = np.array(repr_df.columns[f_ethnicity_idx_lo:f_ethnicity_idx_hi]) \n",
    "n_ethnicity = ethnicity_col.shape[0]\n",
    "\n",
    "# list containing the name of the item categories (food or drink)\n",
    "category_col = np.array(['food',\n",
    "                         'drink'])\n",
    "n_category = category_col.shape[0]\n",
    "\n",
    "# repeat elements to have same length and suitable format\n",
    "ethnicity_col = np.repeat(ethnicity_col, n_category)\n",
    "category_col = np.tile(category_col, n_ethnicity)\n",
    "\n",
    "# list containing the values of the ethnic group representations\n",
    "f_ethnicities = []\n",
    "for col in repr_df.iloc[:, f_ethnicity_idx_lo:f_ethnicity_idx_hi].columns:\n",
    "    f_ethnicities.append(repr_df[col].values)\n",
    "\n",
    "# list containing the values of items entropy for food and drink\n",
    "h_items_food = repr_df['h_items_food_norm'].values\n",
    "h_items_drink = repr_df['h_items_drink_norm'].values\n",
    "h_item_categories = [h_items_food, h_items_drink]\n",
    "\n",
    "# compute the correlation and their p-values\n",
    "R_col = []\n",
    "p_col = []\n",
    "for et in f_ethnicities:\n",
    "    for cat in h_item_categories:\n",
    "        R, p = spearmanr(et, cat)\n",
    "        R_col.append(R)\n",
    "        p_col.append(p)\n",
    "\n",
    "d = {'Ethnicity': ethnicity_col.tolist(),\n",
    "     'Category': category_col.tolist(),\n",
    "     'R': R_col,\n",
    "     'p-value': p_col}\n",
    "\n",
    "fh_corr_df = pd.DataFrame(data = d)\n",
    "fh_corr_df"
   ]
  },
  {
   "cell_type": "markdown",
   "metadata": {},
   "source": [
    "### Visualization"
   ]
  },
  {
   "cell_type": "code",
   "execution_count": 14,
   "metadata": {},
   "outputs": [
    {
     "data": {
      "text/plain": [
       "(array([0, 1, 2, 3]),\n",
       " [Text(0, 0, 'Ethnic_Group;f_White;2011'),\n",
       "  Text(1, 0, 'Ethnic_Group;f_Mixed/multiple_ethnic_groups;2011'),\n",
       "  Text(2, 0, 'Ethnic_Group;f_Asian/Asian_British;2011'),\n",
       "  Text(3, 0, 'Ethnic_Group;f_Black/African/Caribbean/Black_British;2011')])"
      ]
     },
     "execution_count": 14,
     "metadata": {},
     "output_type": "execute_result"
    },
    {
     "data": {
      "text/plain": [
       "<Figure size 720x360 with 0 Axes>"
      ]
     },
     "metadata": {},
     "output_type": "display_data"
    },
    {
     "data": {
      "image/png": "[encoded data removed]",
      "text/plain": [
       "<Figure size 921.875x432 with 1 Axes>"
      ]
     },
     "metadata": {},
     "output_type": "display_data"
    }
   ],
   "source": [
    "# keep only the significant data \n",
    "fh_plot_df = fh_corr_df[fh_corr_df['p-value'] < 0.05]\n",
    "\n",
    "sns.set_style(\"dark\")\n",
    "\n",
    "plt.figure(figsize=(10,5))\n",
    "g = sns.catplot(data=fh_plot_df, kind=\"bar\", x=\"Ethnicity\", y=\"R\", hue=\"Category\", palette=\"dark\", alpha=.6, height=6, aspect=2)\n",
    "for ax in g.axes.flat:\n",
    "    ax.grid(True, axis='y')\n",
    "ax.axhline(y=0, color='k')\n",
    "plt.xticks(rotation=90 )"
   ]
  },
  {
   "cell_type": "markdown",
   "metadata": {},
   "source": [
    "## Correlation between the different propotrions of ethnic groups and different propotrions of items gategory"
   ]
  },
  {
   "cell_type": "code",
   "execution_count": 15,
   "metadata": {},
   "outputs": [
    {
     "data": {
      "text/html": [
       "<div>\n",
       "<style scoped>\n",
       "    .dataframe tbody tr th:only-of-type {\n",
       "        vertical-align: middle;\n",
       "    }\n",
       "\n",
       "    .dataframe tbody tr th {\n",
       "        vertical-align: top;\n",
       "    }\n",
       "\n",
       "    .dataframe thead th {\n",
       "        text-align: right;\n",
       "    }\n",
       "</style>\n",
       "<table border=\"1\" class=\"dataframe\">\n",
       "  <thead>\n",
       "    <tr style=\"text-align: right;\">\n",
       "      <th></th>\n",
       "      <th>Ethnicity</th>\n",
       "      <th>Category</th>\n",
       "      <th>Item</th>\n",
       "      <th>R</th>\n",
       "      <th>p-value</th>\n",
       "    </tr>\n",
       "  </thead>\n",
       "  <tbody>\n",
       "    <tr>\n",
       "      <th>0</th>\n",
       "      <td>Ethnic_Group;f_White;2011</td>\n",
       "      <td>drink</td>\n",
       "      <td>f_beer</td>\n",
       "      <td>0.350928</td>\n",
       "      <td>3.966217e-23</td>\n",
       "    </tr>\n",
       "    <tr>\n",
       "      <th>1</th>\n",
       "      <td>Ethnic_Group;f_White;2011</td>\n",
       "      <td>food</td>\n",
       "      <td>f_dairy</td>\n",
       "      <td>-0.256853</td>\n",
       "      <td>9.479161e-13</td>\n",
       "    </tr>\n",
       "    <tr>\n",
       "      <th>2</th>\n",
       "      <td>Ethnic_Group;f_White;2011</td>\n",
       "      <td>food</td>\n",
       "      <td>f_eggs</td>\n",
       "      <td>-0.293693</td>\n",
       "      <td>2.287377e-16</td>\n",
       "    </tr>\n",
       "    <tr>\n",
       "      <th>3</th>\n",
       "      <td>Ethnic_Group;f_White;2011</td>\n",
       "      <td>food</td>\n",
       "      <td>f_fats_oils</td>\n",
       "      <td>-0.269373</td>\n",
       "      <td>6.435171e-14</td>\n",
       "    </tr>\n",
       "    <tr>\n",
       "      <th>4</th>\n",
       "      <td>Ethnic_Group;f_White;2011</td>\n",
       "      <td>food</td>\n",
       "      <td>f_fish</td>\n",
       "      <td>0.218330</td>\n",
       "      <td>1.557980e-09</td>\n",
       "    </tr>\n",
       "    <tr>\n",
       "      <th>...</th>\n",
       "      <td>...</td>\n",
       "      <td>...</td>\n",
       "      <td>...</td>\n",
       "      <td>...</td>\n",
       "      <td>...</td>\n",
       "    </tr>\n",
       "    <tr>\n",
       "      <th>80</th>\n",
       "      <td>Ethnic_Group;f_Other_ethnic_group;2011</td>\n",
       "      <td>drink</td>\n",
       "      <td>f_spirits</td>\n",
       "      <td>0.120880</td>\n",
       "      <td>9.168861e-04</td>\n",
       "    </tr>\n",
       "    <tr>\n",
       "      <th>81</th>\n",
       "      <td>Ethnic_Group;f_Other_ethnic_group;2011</td>\n",
       "      <td>food</td>\n",
       "      <td>f_sweets</td>\n",
       "      <td>-0.096084</td>\n",
       "      <td>8.505883e-03</td>\n",
       "    </tr>\n",
       "    <tr>\n",
       "      <th>82</th>\n",
       "      <td>Ethnic_Group;f_Other_ethnic_group;2011</td>\n",
       "      <td>drink</td>\n",
       "      <td>f_tea_coffee</td>\n",
       "      <td>0.373080</td>\n",
       "      <td>3.783774e-26</td>\n",
       "    </tr>\n",
       "    <tr>\n",
       "      <th>83</th>\n",
       "      <td>Ethnic_Group;f_Other_ethnic_group;2011</td>\n",
       "      <td>drink</td>\n",
       "      <td>f_water</td>\n",
       "      <td>0.304247</td>\n",
       "      <td>1.660721e-17</td>\n",
       "    </tr>\n",
       "    <tr>\n",
       "      <th>84</th>\n",
       "      <td>Ethnic_Group;f_Other_ethnic_group;2011</td>\n",
       "      <td>drink</td>\n",
       "      <td>f_wine</td>\n",
       "      <td>-0.395430</td>\n",
       "      <td>1.922246e-29</td>\n",
       "    </tr>\n",
       "  </tbody>\n",
       "</table>\n",
       "<p>85 rows × 5 columns</p>\n",
       "</div>"
      ],
      "text/plain": [
       "                                 Ethnicity Category          Item         R  \\\n",
       "0                Ethnic_Group;f_White;2011    drink        f_beer  0.350928   \n",
       "1                Ethnic_Group;f_White;2011     food       f_dairy -0.256853   \n",
       "2                Ethnic_Group;f_White;2011     food        f_eggs -0.293693   \n",
       "3                Ethnic_Group;f_White;2011     food   f_fats_oils -0.269373   \n",
       "4                Ethnic_Group;f_White;2011     food        f_fish  0.218330   \n",
       "..                                     ...      ...           ...       ...   \n",
       "80  Ethnic_Group;f_Other_ethnic_group;2011    drink     f_spirits  0.120880   \n",
       "81  Ethnic_Group;f_Other_ethnic_group;2011     food      f_sweets -0.096084   \n",
       "82  Ethnic_Group;f_Other_ethnic_group;2011    drink  f_tea_coffee  0.373080   \n",
       "83  Ethnic_Group;f_Other_ethnic_group;2011    drink       f_water  0.304247   \n",
       "84  Ethnic_Group;f_Other_ethnic_group;2011    drink        f_wine -0.395430   \n",
       "\n",
       "         p-value  \n",
       "0   3.966217e-23  \n",
       "1   9.479161e-13  \n",
       "2   2.287377e-16  \n",
       "3   6.435171e-14  \n",
       "4   1.557980e-09  \n",
       "..           ...  \n",
       "80  9.168861e-04  \n",
       "81  8.505883e-03  \n",
       "82  3.783774e-26  \n",
       "83  1.660721e-17  \n",
       "84  1.922246e-29  \n",
       "\n",
       "[85 rows x 5 columns]"
      ]
     },
     "execution_count": 15,
     "metadata": {},
     "output_type": "execute_result"
    }
   ],
   "source": [
    "# list containing names of the different products proportions\n",
    "f_items_idx_lo = repr_df.columns.get_loc('f_beer') \n",
    "f_items_idx_hi = repr_df.columns.get_loc('f_wine')+1\n",
    "item_col = np.array(repr_df.columns[f_items_idx_lo:f_items_idx_hi]) # list containing name of the columns\n",
    "n_item = item_col.shape[0]\n",
    "\n",
    "# list containing names of the different ethnic groups\n",
    "f_ethnicity_idx_lo = repr_df.columns.get_loc('Ethnic_Group;f_White;2011')\n",
    "f_ethnicity_idx_hi = repr_df.columns.get_loc('Ethnic_Group;f_Other_ethnic_group;2011')+1\n",
    "ethnicity_col = np.array(repr_df.columns[f_ethnicity_idx_lo:f_ethnicity_idx_hi]) # list containing name of the columns\n",
    "n_ethnicity = ethnicity_col.shape[0]\n",
    "\n",
    "# repeat elements to get good format\n",
    "item_col = np.tile(item_col, n_ethnicity)\n",
    "ethnicity_col = np.repeat(ethnicity_col, n_item)\n",
    "\n",
    "\n",
    "f_items = []\n",
    "for col in repr_df.iloc[:, f_items_idx_lo:f_items_idx_hi].columns:\n",
    "    f_items.append(repr_df[col].values)\n",
    "\n",
    "f_ethnicities = []\n",
    "for col in repr_df.iloc[:, f_ethnicity_idx_lo:f_ethnicity_idx_hi].columns:\n",
    "    f_ethnicities.append(repr_df[col].values)\n",
    "    \n",
    "R_col = []\n",
    "p_col = []\n",
    "\n",
    "for et in f_ethnicities:\n",
    "    for item in f_items:\n",
    "        R, p = spearmanr(et, item)\n",
    "        R_col.append(R)\n",
    "        p_col.append(p)\n",
    "\n",
    "d = {'Ethnicity': ethnicity_col.tolist(),\n",
    "     'Item': item_col.tolist(),\n",
    "     'R': R_col,\n",
    "     'p-value': p_col}\n",
    "      \n",
    "ff_corr_df = pd.DataFrame(data = d)\n",
    "\n",
    "# add a \"Category column\" to label items as food or drink\n",
    "def is_food_or_drink(Item):\n",
    "    \n",
    "    food_list = set(['f_dairy',\n",
    "                     'f_eggs',\n",
    "                     'f_fats_oils',\n",
    "                     'f_fish',\n",
    "                     'f_fruit_veg',\n",
    "                     'f_grains',\n",
    "                     'f_meat_red',\n",
    "                     'f_poultry',\n",
    "                     'f_readymade',\n",
    "                     'f_sauces',\n",
    "                     'f_sweets'])\n",
    "\n",
    "    drink_list = set(['f_beer',\n",
    "                      'f_soft_drinks',\n",
    "                      'f_spirits',\n",
    "                      'f_tea_coffee',\n",
    "                      'f_water',\n",
    "                      'f_wine'])\n",
    "    \n",
    "    if Item in food_list :\n",
    "        return \"food\"\n",
    "    elif Item in drink_list :\n",
    "        return \"drink\"\n",
    "\n",
    "ff_corr_df.insert(1, 'Category', ff_corr_df['Item'].apply(is_food_or_drink), True)\n",
    "ff_corr_df"
   ]
  },
  {
   "cell_type": "markdown",
   "metadata": {},
   "source": [
    "### Visualization"
   ]
  },
  {
   "cell_type": "code",
   "execution_count": 16,
   "metadata": {},
   "outputs": [
    {
     "name": "stderr",
     "output_type": "stream",
     "text": [
      "<ipython-input-16-f503f544c1b5>:3: SettingWithCopyWarning: \n",
      "A value is trying to be set on a copy of a slice from a DataFrame\n",
      "\n",
      "See the caveats in the documentation: https://pandas.pydata.org/pandas-docs/stable/user_guide/indexing.html#returning-a-view-versus-a-copy\n",
      "  plot_df['R'][plot_df['p-value'] >= 0.05] = 0\n"
     ]
    },
    {
     "data": {
      "text/plain": [
       "(array([0.5, 1.5, 2.5, 3.5, 4.5]),\n",
       " [Text(0, 0.5, 'f_White'),\n",
       "  Text(0, 1.5, 'f_Mixed/multiple_ethnic_groups1'),\n",
       "  Text(0, 2.5, 'f_Asian/Asian_British'),\n",
       "  Text(0, 3.5, 'f_Black/African/Caribbean/Black_British'),\n",
       "  Text(0, 4.5, 'f_Other_ethnic_group')])"
      ]
     },
     "execution_count": 16,
     "metadata": {},
     "output_type": "execute_result"
    },
    {
     "data": {
      "image/png": "[encoded data removed]",
      "text/plain": [
       "<Figure size 720x360 with 2 Axes>"
      ]
     },
     "metadata": {},
     "output_type": "display_data"
    },
    {
     "data": {
      "image/png": "[encoded data removed]",
      "text/plain": [
       "<Figure size 720x360 with 2 Axes>"
      ]
     },
     "metadata": {},
     "output_type": "display_data"
    }
   ],
   "source": [
    "# keep only the significative R, put the other at 0\n",
    "plot_df = ff_corr_df.copy()\n",
    "plot_df['R'][plot_df['p-value'] >= 0.05] = 0\n",
    "plot_df\n",
    "\n",
    "ethnicity_list = np.array(repr_df.columns[f_ethnicity_idx_lo:f_ethnicity_idx_hi]).tolist()\n",
    "n_ethnicity = len(ethnicity_list)\n",
    "n_food = 11\n",
    "n_drink = 6\n",
    "\n",
    "R_food_np = np.zeros((n_ethnicity, n_food))\n",
    "R_drink_np = np.zeros((n_ethnicity, n_drink))\n",
    "\n",
    "for i in range(n_ethnicity):\n",
    "    R_food_np[i,:] = plot_df['R'][np.logical_and(plot_df['Ethnicity'] == ethnicity_list[i], plot_df['Category'] == 'food')]\n",
    "    R_drink_np[i,:] = plot_df['R'][np.logical_and(plot_df['Ethnicity'] == ethnicity_list[i], plot_df['Category'] == 'drink')]\n",
    "\n",
    "\n",
    "ethnicities_list = ['f_White',\n",
    "                    'f_Mixed/multiple_ethnic_groups1',\n",
    "                    'f_Asian/Asian_British',\n",
    "                    'f_Black/African/Caribbean/Black_British',\n",
    "                    'f_Other_ethnic_group']    \n",
    "    \n",
    "food_list = ['f_dairy',\n",
    "             'f_eggs',\n",
    "             'f_fats_oils',\n",
    "             'f_fish',\n",
    "             'f_fruit_veg',\n",
    "             'f_grains',\n",
    "             'f_meat_red',\n",
    "             'f_poultry',\n",
    "             'f_readymade',\n",
    "             'f_sauces',\n",
    "             'f_sweets']\n",
    "\n",
    "drink_list = ['f_beer',\n",
    "              'f_soft_drinks',\n",
    "              'f_spirits',\n",
    "              'f_tea_coffee',\n",
    "              'f_water',\n",
    "              'f_wine']\n",
    "\n",
    "plt.figure(figsize=(10,5))\n",
    "ax = sns.heatmap(R_food_np, annot=True, vmin=-1, vmax=1, cmap='seismic')\n",
    "ax.set_title('Searman rank correlation between proportions of ethnic groups \\n and proportions of food items')\n",
    "ax.set_xticklabels(food_list)\n",
    "plt.xticks(rotation=45)\n",
    "ax.set_yticklabels(ethnicities_list)\n",
    "plt.yticks(rotation=45)\n",
    "\n",
    "\n",
    "plt.figure(figsize=(10,5))\n",
    "ax = sns.heatmap(R_drink_np, annot=True, vmin=-1, vmax=1, cmap='seismic')\n",
    "ax.set_title('Searman rank correlation between proportions of ethnic groups \\n and proportions of drink items')\n",
    "ax.set_xticklabels(drink_list)\n",
    "plt.xticks(rotation=45)\n",
    "ax.set_yticklabels(ethnicities_list)\n",
    "plt.yticks(rotation=45)"
   ]
  },
  {
   "cell_type": "code",
   "execution_count": null,
   "metadata": {},
   "outputs": [],
   "source": [
    "\n",
    "\n",
    "\n",
    "\n",
    "\n",
    "\n",
    "\n",
    "\n",
    "\n",
    "\n",
    "\n"
   ]
  },
  {
   "cell_type": "markdown",
   "metadata": {},
   "source": [
    "### Predicting food consumption diversity using linear regression ###"
   ]
  },
  {
   "cell_type": "markdown",
   "metadata": {},
   "source": [
    "We create a new dataframe with only the columns of interest for this part of the analysis"
   ]
  },
  {
   "cell_type": "code",
   "execution_count": 17,
   "metadata": {},
   "outputs": [
    {
     "data": {
      "text/html": [
       "<div>\n",
       "<style scoped>\n",
       "    .dataframe tbody tr th:only-of-type {\n",
       "        vertical-align: middle;\n",
       "    }\n",
       "\n",
       "    .dataframe tbody tr th {\n",
       "        vertical-align: top;\n",
       "    }\n",
       "\n",
       "    .dataframe thead th {\n",
       "        text-align: right;\n",
       "    }\n",
       "</style>\n",
       "<table border=\"1\" class=\"dataframe\">\n",
       "  <thead>\n",
       "    <tr style=\"text-align: right;\">\n",
       "      <th></th>\n",
       "      <th>LSOA11CD</th>\n",
       "      <th>Ethnic_Group;h_ethnicities_norm;2011</th>\n",
       "      <th>h_items_norm</th>\n",
       "      <th>h_items_food_norm</th>\n",
       "      <th>h_items_drink_norm</th>\n",
       "      <th>Economic_Activity;Employment_Rate;2011</th>\n",
       "      <th>Health;Very_good_or_Good_health_(%);2011</th>\n",
       "      <th>Child_Benefit;%_of_families_with_3+_children;2013</th>\n",
       "      <th>Household_Income,_2011/12;Mean_Annual_Household_Income_estimate_(£)</th>\n",
       "    </tr>\n",
       "    <tr>\n",
       "      <th>LSOA11NM</th>\n",
       "      <th></th>\n",
       "      <th></th>\n",
       "      <th></th>\n",
       "      <th></th>\n",
       "      <th></th>\n",
       "      <th></th>\n",
       "      <th></th>\n",
       "      <th></th>\n",
       "      <th></th>\n",
       "    </tr>\n",
       "  </thead>\n",
       "  <tbody>\n",
       "    <tr>\n",
       "      <th>City of London 001E</th>\n",
       "      <td>E01000005</td>\n",
       "      <td>0.772516</td>\n",
       "      <td>0.781864</td>\n",
       "      <td>0.768500</td>\n",
       "      <td>0.207844</td>\n",
       "      <td>58.9</td>\n",
       "      <td>79.4</td>\n",
       "      <td>18.2</td>\n",
       "      <td>30781.0</td>\n",
       "    </tr>\n",
       "    <tr>\n",
       "      <th>Barnet 010A</th>\n",
       "      <td>E01000117</td>\n",
       "      <td>0.479262</td>\n",
       "      <td>0.783691</td>\n",
       "      <td>0.795693</td>\n",
       "      <td>0.174340</td>\n",
       "      <td>65.5</td>\n",
       "      <td>81.4</td>\n",
       "      <td>7.1</td>\n",
       "      <td>42225.0</td>\n",
       "    </tr>\n",
       "    <tr>\n",
       "      <th>Barnet 010B</th>\n",
       "      <td>E01000118</td>\n",
       "      <td>0.584321</td>\n",
       "      <td>0.789631</td>\n",
       "      <td>0.779357</td>\n",
       "      <td>0.205594</td>\n",
       "      <td>66.8</td>\n",
       "      <td>85.4</td>\n",
       "      <td>13.7</td>\n",
       "      <td>42960.0</td>\n",
       "    </tr>\n",
       "    <tr>\n",
       "      <th>Barnet 009D</th>\n",
       "      <td>E01000120</td>\n",
       "      <td>0.622721</td>\n",
       "      <td>0.771084</td>\n",
       "      <td>0.766892</td>\n",
       "      <td>0.192949</td>\n",
       "      <td>61.9</td>\n",
       "      <td>84.7</td>\n",
       "      <td>18.2</td>\n",
       "      <td>54528.0</td>\n",
       "    </tr>\n",
       "    <tr>\n",
       "      <th>Barnet 010D</th>\n",
       "      <td>E01000123</td>\n",
       "      <td>0.612108</td>\n",
       "      <td>0.794541</td>\n",
       "      <td>0.790447</td>\n",
       "      <td>0.198516</td>\n",
       "      <td>67.7</td>\n",
       "      <td>85.9</td>\n",
       "      <td>9.1</td>\n",
       "      <td>40482.0</td>\n",
       "    </tr>\n",
       "  </tbody>\n",
       "</table>\n",
       "</div>"
      ],
      "text/plain": [
       "                      LSOA11CD  Ethnic_Group;h_ethnicities_norm;2011  \\\n",
       "LSOA11NM                                                               \n",
       "City of London 001E  E01000005                              0.772516   \n",
       "Barnet 010A          E01000117                              0.479262   \n",
       "Barnet 010B          E01000118                              0.584321   \n",
       "Barnet 009D          E01000120                              0.622721   \n",
       "Barnet 010D          E01000123                              0.612108   \n",
       "\n",
       "                     h_items_norm  h_items_food_norm  h_items_drink_norm  \\\n",
       "LSOA11NM                                                                   \n",
       "City of London 001E      0.781864           0.768500            0.207844   \n",
       "Barnet 010A              0.783691           0.795693            0.174340   \n",
       "Barnet 010B              0.789631           0.779357            0.205594   \n",
       "Barnet 009D              0.771084           0.766892            0.192949   \n",
       "Barnet 010D              0.794541           0.790447            0.198516   \n",
       "\n",
       "                     Economic_Activity;Employment_Rate;2011  \\\n",
       "LSOA11NM                                                      \n",
       "City of London 001E                                    58.9   \n",
       "Barnet 010A                                            65.5   \n",
       "Barnet 010B                                            66.8   \n",
       "Barnet 009D                                            61.9   \n",
       "Barnet 010D                                            67.7   \n",
       "\n",
       "                     Health;Very_good_or_Good_health_(%);2011  \\\n",
       "LSOA11NM                                                        \n",
       "City of London 001E                                      79.4   \n",
       "Barnet 010A                                              81.4   \n",
       "Barnet 010B                                              85.4   \n",
       "Barnet 009D                                              84.7   \n",
       "Barnet 010D                                              85.9   \n",
       "\n",
       "                    Child_Benefit;%_of_families_with_3+_children;2013  \\\n",
       "LSOA11NM                                                                \n",
       "City of London 001E                                              18.2   \n",
       "Barnet 010A                                                       7.1   \n",
       "Barnet 010B                                                      13.7   \n",
       "Barnet 009D                                                      18.2   \n",
       "Barnet 010D                                                       9.1   \n",
       "\n",
       "                     Household_Income,_2011/12;Mean_Annual_Household_Income_estimate_(£)  \n",
       "LSOA11NM                                                                                  \n",
       "City of London 001E                                            30781.0                    \n",
       "Barnet 010A                                                    42225.0                    \n",
       "Barnet 010B                                                    42960.0                    \n",
       "Barnet 009D                                                    54528.0                    \n",
       "Barnet 010D                                                    40482.0                    "
      ]
     },
     "execution_count": 17,
     "metadata": {},
     "output_type": "execute_result"
    }
   ],
   "source": [
    "col_of_interest = ['LSOA11CD', 'Ethnic_Group;h_ethnicities_norm;2011', 'h_items_norm', 'h_items_food_norm',\n",
    "                   'h_items_drink_norm', \n",
    "                   'Economic_Activity;Employment_Rate;2011', 'Health;Very_good_or_Good_health_(%);2011', \n",
    "                   'Child_Benefit;%_of_families_with_3+_children;2013', \n",
    "                   'Household_Income,_2011/12;Mean_Annual_Household_Income_estimate_(£)']\n",
    "\n",
    "lin_reg_df = repr_df[col_of_interest]\n",
    "\n",
    "lin_reg_df.head()"
   ]
  },
  {
   "cell_type": "markdown",
   "metadata": {},
   "source": [
    "We rename the columns to make them easier to manipulate"
   ]
  },
  {
   "cell_type": "code",
   "execution_count": 18,
   "metadata": {},
   "outputs": [
    {
     "data": {
      "text/html": [
       "<div>\n",
       "<style scoped>\n",
       "    .dataframe tbody tr th:only-of-type {\n",
       "        vertical-align: middle;\n",
       "    }\n",
       "\n",
       "    .dataframe tbody tr th {\n",
       "        vertical-align: top;\n",
       "    }\n",
       "\n",
       "    .dataframe thead th {\n",
       "        text-align: right;\n",
       "    }\n",
       "</style>\n",
       "<table border=\"1\" class=\"dataframe\">\n",
       "  <thead>\n",
       "    <tr style=\"text-align: right;\">\n",
       "      <th></th>\n",
       "      <th>LSOA11CD</th>\n",
       "      <th>h_ethnic_norm</th>\n",
       "      <th>h_items_norm</th>\n",
       "      <th>h_items_food_norm</th>\n",
       "      <th>h_items_drink_norm</th>\n",
       "      <th>employment_rate</th>\n",
       "      <th>pop_good_health</th>\n",
       "      <th>families_3ormore_children</th>\n",
       "      <th>avg_income_household</th>\n",
       "    </tr>\n",
       "    <tr>\n",
       "      <th>LSOA11NM</th>\n",
       "      <th></th>\n",
       "      <th></th>\n",
       "      <th></th>\n",
       "      <th></th>\n",
       "      <th></th>\n",
       "      <th></th>\n",
       "      <th></th>\n",
       "      <th></th>\n",
       "      <th></th>\n",
       "    </tr>\n",
       "  </thead>\n",
       "  <tbody>\n",
       "    <tr>\n",
       "      <th>City of London 001E</th>\n",
       "      <td>E01000005</td>\n",
       "      <td>0.772516</td>\n",
       "      <td>0.781864</td>\n",
       "      <td>0.768500</td>\n",
       "      <td>0.207844</td>\n",
       "      <td>58.9</td>\n",
       "      <td>79.4</td>\n",
       "      <td>18.2</td>\n",
       "      <td>30781.0</td>\n",
       "    </tr>\n",
       "    <tr>\n",
       "      <th>Barnet 010A</th>\n",
       "      <td>E01000117</td>\n",
       "      <td>0.479262</td>\n",
       "      <td>0.783691</td>\n",
       "      <td>0.795693</td>\n",
       "      <td>0.174340</td>\n",
       "      <td>65.5</td>\n",
       "      <td>81.4</td>\n",
       "      <td>7.1</td>\n",
       "      <td>42225.0</td>\n",
       "    </tr>\n",
       "    <tr>\n",
       "      <th>Barnet 010B</th>\n",
       "      <td>E01000118</td>\n",
       "      <td>0.584321</td>\n",
       "      <td>0.789631</td>\n",
       "      <td>0.779357</td>\n",
       "      <td>0.205594</td>\n",
       "      <td>66.8</td>\n",
       "      <td>85.4</td>\n",
       "      <td>13.7</td>\n",
       "      <td>42960.0</td>\n",
       "    </tr>\n",
       "    <tr>\n",
       "      <th>Barnet 009D</th>\n",
       "      <td>E01000120</td>\n",
       "      <td>0.622721</td>\n",
       "      <td>0.771084</td>\n",
       "      <td>0.766892</td>\n",
       "      <td>0.192949</td>\n",
       "      <td>61.9</td>\n",
       "      <td>84.7</td>\n",
       "      <td>18.2</td>\n",
       "      <td>54528.0</td>\n",
       "    </tr>\n",
       "    <tr>\n",
       "      <th>Barnet 010D</th>\n",
       "      <td>E01000123</td>\n",
       "      <td>0.612108</td>\n",
       "      <td>0.794541</td>\n",
       "      <td>0.790447</td>\n",
       "      <td>0.198516</td>\n",
       "      <td>67.7</td>\n",
       "      <td>85.9</td>\n",
       "      <td>9.1</td>\n",
       "      <td>40482.0</td>\n",
       "    </tr>\n",
       "  </tbody>\n",
       "</table>\n",
       "</div>"
      ],
      "text/plain": [
       "                      LSOA11CD  h_ethnic_norm  h_items_norm  \\\n",
       "LSOA11NM                                                      \n",
       "City of London 001E  E01000005       0.772516      0.781864   \n",
       "Barnet 010A          E01000117       0.479262      0.783691   \n",
       "Barnet 010B          E01000118       0.584321      0.789631   \n",
       "Barnet 009D          E01000120       0.622721      0.771084   \n",
       "Barnet 010D          E01000123       0.612108      0.794541   \n",
       "\n",
       "                     h_items_food_norm  h_items_drink_norm  employment_rate  \\\n",
       "LSOA11NM                                                                      \n",
       "City of London 001E           0.768500            0.207844             58.9   \n",
       "Barnet 010A                   0.795693            0.174340             65.5   \n",
       "Barnet 010B                   0.779357            0.205594             66.8   \n",
       "Barnet 009D                   0.766892            0.192949             61.9   \n",
       "Barnet 010D                   0.790447            0.198516             67.7   \n",
       "\n",
       "                     pop_good_health families_3ormore_children  \\\n",
       "LSOA11NM                                                         \n",
       "City of London 001E             79.4                      18.2   \n",
       "Barnet 010A                     81.4                       7.1   \n",
       "Barnet 010B                     85.4                      13.7   \n",
       "Barnet 009D                     84.7                      18.2   \n",
       "Barnet 010D                     85.9                       9.1   \n",
       "\n",
       "                     avg_income_household  \n",
       "LSOA11NM                                   \n",
       "City of London 001E               30781.0  \n",
       "Barnet 010A                       42225.0  \n",
       "Barnet 010B                       42960.0  \n",
       "Barnet 009D                       54528.0  \n",
       "Barnet 010D                       40482.0  "
      ]
     },
     "execution_count": 18,
     "metadata": {},
     "output_type": "execute_result"
    }
   ],
   "source": [
    "lin_reg_df = lin_reg_df.rename(columns={'Ethnic_Group;h_ethnicities_norm;2011': 'h_ethnic_norm', \n",
    "                                        'Economic_Activity;Employment_Rate;2011': 'employment_rate', \n",
    "                                        'Health;Very_good_or_Good_health_(%);2011': 'pop_good_health', \n",
    "                                        'Child_Benefit;%_of_families_with_3+_children;2013': 'families_3ormore_children', \n",
    "                                        'Household_Income,_2011/12;Mean_Annual_Household_Income_estimate_(£)': 'avg_income_household'})\n",
    "\n",
    "lin_reg_df.head()"
   ]
  },
  {
   "cell_type": "code",
   "execution_count": 19,
   "metadata": {},
   "outputs": [
    {
     "data": {
      "text/plain": [
       "(749, 9)"
      ]
     },
     "execution_count": 19,
     "metadata": {},
     "output_type": "execute_result"
    }
   ],
   "source": [
    "lin_reg_df.shape"
   ]
  },
  {
   "cell_type": "markdown",
   "metadata": {},
   "source": [
    "A few values of `pop_good_health` are not given so we need to handle that."
   ]
  },
  {
   "cell_type": "code",
   "execution_count": 20,
   "metadata": {},
   "outputs": [
    {
     "data": {
      "text/plain": [
       "(array([606, 713, 714]), array([7, 7, 7]))"
      ]
     },
     "execution_count": 20,
     "metadata": {},
     "output_type": "execute_result"
    }
   ],
   "source": [
    "np.where(lin_reg_df=='-')"
   ]
  },
  {
   "cell_type": "code",
   "execution_count": 21,
   "metadata": {},
   "outputs": [
    {
     "data": {
      "text/plain": [
       "(746, 9)"
      ]
     },
     "execution_count": 21,
     "metadata": {},
     "output_type": "execute_result"
    }
   ],
   "source": [
    "lin_reg_df = lin_reg_df.drop(lin_reg_df.index[[606, 713, 714]])\n",
    "lin_reg_df.shape"
   ]
  },
  {
   "cell_type": "code",
   "execution_count": 22,
   "metadata": {},
   "outputs": [],
   "source": [
    "# imports\n",
    "from sklearn.model_selection import train_test_split\n",
    "from sklearn.linear_model import LinearRegression\n",
    "from sklearn.metrics import r2_score"
   ]
  },
  {
   "cell_type": "markdown",
   "metadata": {},
   "source": [
    "We will try to explain the variance in the food consumption entropy with the following features of each LSOA:\n",
    "- The ethnic entropy\n",
    "- The employment rate\n",
    "- The percentage of the population in good health\n",
    "- The percentage of households with 3 children or more\n",
    "- The average income per household"
   ]
  },
  {
   "cell_type": "code",
   "execution_count": 23,
   "metadata": {},
   "outputs": [
    {
     "name": "stdout",
     "output_type": "stream",
     "text": [
      "The feature columns used here explain 31.27 % of the variance of the food consumption entropy.\n"
     ]
    }
   ],
   "source": [
    "train_df, test_df = train_test_split(lin_reg_df, test_size=0.3, random_state=42)\n",
    "\n",
    "feature_cols = ['h_ethnic_norm', 'employment_rate', 'pop_good_health', 'families_3ormore_children', \n",
    "                'avg_income_household']\n",
    "\n",
    "# Linear regression with random split\n",
    "X_train = train_df[feature_cols]\n",
    "X_test = test_df[feature_cols]\n",
    "y_train = train_df['h_items_norm']\n",
    "y_test = test_df['h_items_norm']\n",
    "\n",
    "lin_reg = LinearRegression()  # create the model\n",
    "lin_reg.fit(X_train, y_train)  # train\n",
    "y_pred_test = lin_reg.predict(X_test)\n",
    "r2_test = r2_score(y_test, y_pred_test)\n",
    "\n",
    "print('The feature columns used here explain {0:.2f} % of the variance of the food consumption entropy.'\n",
    "      .format(r2_test*100))"
   ]
  },
  {
   "cell_type": "markdown",
   "metadata": {},
   "source": [
    "Let's now try to keep only the ethnic entropy to try to explain the food consumption entropy."
   ]
  },
  {
   "cell_type": "code",
   "execution_count": 24,
   "metadata": {},
   "outputs": [
    {
     "name": "stdout",
     "output_type": "stream",
     "text": [
      "The ethnic entropy explains 2.52 % of the variance of the food consumption entropy.\n"
     ]
    }
   ],
   "source": [
    "feature_cols = ['h_ethnic_norm']\n",
    "\n",
    "# Linear regression with random split\n",
    "X_train = train_df[feature_cols]\n",
    "X_test = test_df[feature_cols]\n",
    "y_train = train_df['h_items_norm']\n",
    "y_test = test_df['h_items_norm']\n",
    "\n",
    "lin_reg = LinearRegression()  # create the model\n",
    "lin_reg.fit(X_train, y_train)  # train\n",
    "y_pred_test = lin_reg.predict(X_test)\n",
    "r2_test = r2_score(y_test, y_pred_test)\n",
    "\n",
    "print('The ethnic entropy explains {0:.2f} % of the variance of the food consumption entropy.'\n",
    "      .format(r2_test*100))"
   ]
  },
  {
   "cell_type": "markdown",
   "metadata": {},
   "source": [
    "Let's this time use the statsmodels module, and summarize the results to see the contribution and significance of each term. In this part of the anaylsis, we do not take into account the feature `families_3ormore_children`."
   ]
  },
  {
   "cell_type": "code",
   "execution_count": 25,
   "metadata": {},
   "outputs": [],
   "source": [
    "import statsmodels.api as sm\n",
    "import statsmodels.formula.api as smf"
   ]
  },
  {
   "cell_type": "code",
   "execution_count": 26,
   "metadata": {},
   "outputs": [
    {
     "name": "stdout",
     "output_type": "stream",
     "text": [
      "                            OLS Regression Results                            \n",
      "==============================================================================\n",
      "Dep. Variable:           h_items_norm   R-squared:                       0.230\n",
      "Model:                            OLS   Adj. R-squared:                  0.226\n",
      "Method:                 Least Squares   F-statistic:                     55.40\n",
      "Date:                Sun, 06 Dec 2020   Prob (F-statistic):           6.88e-41\n",
      "Time:                        18:39:33   Log-Likelihood:                 1855.8\n",
      "No. Observations:                 746   AIC:                            -3702.\n",
      "Df Residuals:                     741   BIC:                            -3678.\n",
      "Df Model:                           4                                         \n",
      "Covariance Type:            nonrobust                                         \n",
      "========================================================================================\n",
      "                           coef    std err          t      P>|t|      [0.025      0.975]\n",
      "----------------------------------------------------------------------------------------\n",
      "Intercept                0.8820      0.020     44.307      0.000       0.843       0.921\n",
      "h_ethnic_norm           -0.0008      0.008     -0.096      0.924      -0.016       0.015\n",
      "employment_rate          0.0011      0.000      7.295      0.000       0.001       0.001\n",
      "pop_good_health         -0.0014      0.000     -4.828      0.000      -0.002      -0.001\n",
      "avg_income_household -9.053e-07   9.85e-08     -9.192      0.000    -1.1e-06   -7.12e-07\n",
      "==============================================================================\n",
      "Omnibus:                      359.515   Durbin-Watson:                   0.754\n",
      "Prob(Omnibus):                  0.000   Jarque-Bera (JB):             2736.190\n",
      "Skew:                          -2.028   Prob(JB):                         0.00\n",
      "Kurtosis:                      11.460   Cond. No.                     1.28e+06\n",
      "==============================================================================\n",
      "\n",
      "Notes:\n",
      "[1] Standard Errors assume that the covariance matrix of the errors is correctly specified.\n",
      "[2] The condition number is large, 1.28e+06. This might indicate that there are\n",
      "strong multicollinearity or other numerical problems.\n"
     ]
    }
   ],
   "source": [
    "formula = 'h_items_norm ~ h_ethnic_norm + employment_rate + pop_good_health + avg_income_household'\n",
    "\n",
    "mod = smf.ols(formula=formula, data=lin_reg_df)\n",
    "np.random.seed(2)\n",
    "res = mod.fit()\n",
    "print(res.summary())"
   ]
  },
  {
   "cell_type": "markdown",
   "metadata": {},
   "source": [
    "The ethnic entropy does not seem to be significantly correlated to the food consumption entropy. However, the note \\[2\\] makes us believe that we should normalize the dataframe to confirm the results"
   ]
  },
  {
   "cell_type": "code",
   "execution_count": 27,
   "metadata": {},
   "outputs": [],
   "source": [
    "norm_lin_reg_df = lin_reg_df.copy()\n",
    "\n",
    "norm_lin_reg_df['employment_rate'] = (lin_reg_df['employment_rate'] - lin_reg_df['employment_rate'].mean())/lin_reg_df['employment_rate'].std()\n",
    "norm_lin_reg_df['pop_good_health'] = (lin_reg_df['pop_good_health'] - lin_reg_df['pop_good_health'].mean())/lin_reg_df['pop_good_health'].std()\n",
    "norm_lin_reg_df['avg_income_household'] = (lin_reg_df['avg_income_household'] - lin_reg_df['avg_income_household'].mean())/lin_reg_df['avg_income_household'].std()\n",
    "\n"
   ]
  },
  {
   "cell_type": "code",
   "execution_count": 28,
   "metadata": {},
   "outputs": [
    {
     "name": "stdout",
     "output_type": "stream",
     "text": [
      "                            OLS Regression Results                            \n",
      "==============================================================================\n",
      "Dep. Variable:           h_items_norm   R-squared:                       0.230\n",
      "Model:                            OLS   Adj. R-squared:                  0.226\n",
      "Method:                 Least Squares   F-statistic:                     55.40\n",
      "Date:                Sun, 06 Dec 2020   Prob (F-statistic):           6.88e-41\n",
      "Time:                        18:39:34   Log-Likelihood:                 1855.8\n",
      "No. Observations:                 746   AIC:                            -3702.\n",
      "Df Residuals:                     741   BIC:                            -3678.\n",
      "Df Model:                           4                                         \n",
      "Covariance Type:            nonrobust                                         \n",
      "========================================================================================\n",
      "                           coef    std err          t      P>|t|      [0.025      0.975]\n",
      "----------------------------------------------------------------------------------------\n",
      "Intercept                0.7897      0.005    149.534      0.000       0.779       0.800\n",
      "h_ethnic_norm           -0.0008      0.008     -0.096      0.924      -0.016       0.015\n",
      "employment_rate          0.0086      0.001      7.295      0.000       0.006       0.011\n",
      "pop_good_health         -0.0053      0.001     -4.828      0.000      -0.007      -0.003\n",
      "avg_income_household    -0.0120      0.001     -9.192      0.000      -0.015      -0.009\n",
      "==============================================================================\n",
      "Omnibus:                      359.515   Durbin-Watson:                   0.754\n",
      "Prob(Omnibus):                  0.000   Jarque-Bera (JB):             2736.190\n",
      "Skew:                          -2.028   Prob(JB):                         0.00\n",
      "Kurtosis:                      11.460   Cond. No.                         19.9\n",
      "==============================================================================\n",
      "\n",
      "Notes:\n",
      "[1] Standard Errors assume that the covariance matrix of the errors is correctly specified.\n"
     ]
    }
   ],
   "source": [
    "formula = 'h_items_norm ~ h_ethnic_norm + employment_rate + pop_good_health + avg_income_household'\n",
    "\n",
    "mod = smf.ols(formula=formula, data=norm_lin_reg_df)\n",
    "np.random.seed(2)\n",
    "res = mod.fit()\n",
    "print(res.summary())"
   ]
  },
  {
   "cell_type": "markdown",
   "metadata": {},
   "source": [
    "The note is not there anymore, so that was indeed the problem."
   ]
  },
  {
   "cell_type": "markdown",
   "metadata": {},
   "source": [
    "Let's now do it with the food and drinks entropies"
   ]
  },
  {
   "cell_type": "code",
   "execution_count": 29,
   "metadata": {},
   "outputs": [
    {
     "name": "stdout",
     "output_type": "stream",
     "text": [
      "                            OLS Regression Results                            \n",
      "==============================================================================\n",
      "Dep. Variable:      h_items_food_norm   R-squared:                       0.147\n",
      "Model:                            OLS   Adj. R-squared:                  0.143\n",
      "Method:                 Least Squares   F-statistic:                     31.97\n",
      "Date:                Sun, 06 Dec 2020   Prob (F-statistic):           1.34e-24\n",
      "Time:                        18:39:34   Log-Likelihood:                 1795.2\n",
      "No. Observations:                 746   AIC:                            -3580.\n",
      "Df Residuals:                     741   BIC:                            -3557.\n",
      "Df Model:                           4                                         \n",
      "Covariance Type:            nonrobust                                         \n",
      "========================================================================================\n",
      "                           coef    std err          t      P>|t|      [0.025      0.975]\n",
      "----------------------------------------------------------------------------------------\n",
      "Intercept                0.7807      0.006    136.305      0.000       0.769       0.792\n",
      "h_ethnic_norm           -0.0014      0.009     -0.159      0.874      -0.018       0.016\n",
      "employment_rate          0.0068      0.001      5.358      0.000       0.004       0.009\n",
      "pop_good_health         -0.0077      0.001     -6.410      0.000      -0.010      -0.005\n",
      "avg_income_household    -0.0068      0.001     -4.797      0.000      -0.010      -0.004\n",
      "==============================================================================\n",
      "Omnibus:                      634.978   Durbin-Watson:                   0.783\n",
      "Prob(Omnibus):                  0.000   Jarque-Bera (JB):            18094.581\n",
      "Skew:                          -3.723   Prob(JB):                         0.00\n",
      "Kurtosis:                      25.949   Cond. No.                         19.9\n",
      "==============================================================================\n",
      "\n",
      "Notes:\n",
      "[1] Standard Errors assume that the covariance matrix of the errors is correctly specified.\n"
     ]
    }
   ],
   "source": [
    "formula = 'h_items_food_norm ~ h_ethnic_norm + employment_rate + pop_good_health + avg_income_household'\n",
    "\n",
    "mod = smf.ols(formula=formula, data=norm_lin_reg_df)\n",
    "np.random.seed(2)\n",
    "res = mod.fit()\n",
    "print(res.summary())"
   ]
  },
  {
   "cell_type": "code",
   "execution_count": 30,
   "metadata": {},
   "outputs": [
    {
     "name": "stdout",
     "output_type": "stream",
     "text": [
      "                            OLS Regression Results                            \n",
      "==============================================================================\n",
      "Dep. Variable:     h_items_drink_norm   R-squared:                       0.113\n",
      "Model:                            OLS   Adj. R-squared:                  0.108\n",
      "Method:                 Least Squares   F-statistic:                     23.52\n",
      "Date:                Sun, 06 Dec 2020   Prob (F-statistic):           2.50e-18\n",
      "Time:                        18:39:34   Log-Likelihood:                 1893.3\n",
      "No. Observations:                 746   AIC:                            -3777.\n",
      "Df Residuals:                     741   BIC:                            -3754.\n",
      "Df Model:                           4                                         \n",
      "Covariance Type:            nonrobust                                         \n",
      "========================================================================================\n",
      "                           coef    std err          t      P>|t|      [0.025      0.975]\n",
      "----------------------------------------------------------------------------------------\n",
      "Intercept                0.2039      0.005     40.604      0.000       0.194       0.214\n",
      "h_ethnic_norm            0.0006      0.008      0.083      0.934      -0.014       0.015\n",
      "employment_rate          0.0044      0.001      3.952      0.000       0.002       0.007\n",
      "pop_good_health          0.0018      0.001      1.756      0.079      -0.000       0.004\n",
      "avg_income_household    -0.0099      0.001     -7.964      0.000      -0.012      -0.007\n",
      "==============================================================================\n",
      "Omnibus:                      371.367   Durbin-Watson:                   1.308\n",
      "Prob(Omnibus):                  0.000   Jarque-Bera (JB):             5457.837\n",
      "Skew:                           1.867   Prob(JB):                         0.00\n",
      "Kurtosis:                      15.714   Cond. No.                         19.9\n",
      "==============================================================================\n",
      "\n",
      "Notes:\n",
      "[1] Standard Errors assume that the covariance matrix of the errors is correctly specified.\n"
     ]
    }
   ],
   "source": [
    "formula = 'h_items_drink_norm ~ h_ethnic_norm + employment_rate + pop_good_health + avg_income_household'\n",
    "\n",
    "mod = smf.ols(formula=formula, data=norm_lin_reg_df)\n",
    "np.random.seed(2)\n",
    "res = mod.fit()\n",
    "print(res.summary())"
   ]
  },
  {
   "cell_type": "markdown",
   "metadata": {},
   "source": [
    "In both cases, the effect of the ethnic entropy is not significant. Let's try with fewer explanatory variables"
   ]
  },
  {
   "cell_type": "code",
   "execution_count": 31,
   "metadata": {},
   "outputs": [
    {
     "name": "stdout",
     "output_type": "stream",
     "text": [
      "                            OLS Regression Results                            \n",
      "==============================================================================\n",
      "Dep. Variable:           h_items_norm   R-squared:                       0.171\n",
      "Model:                            OLS   Adj. R-squared:                  0.169\n",
      "Method:                 Least Squares   F-statistic:                     76.78\n",
      "Date:                Sun, 06 Dec 2020   Prob (F-statistic):           4.88e-31\n",
      "Time:                        18:39:35   Log-Likelihood:                 1828.3\n",
      "No. Observations:                 746   AIC:                            -3651.\n",
      "Df Residuals:                     743   BIC:                            -3637.\n",
      "Df Model:                           2                                         \n",
      "Covariance Type:            nonrobust                                         \n",
      "========================================================================================\n",
      "                           coef    std err          t      P>|t|      [0.025      0.975]\n",
      "----------------------------------------------------------------------------------------\n",
      "Intercept                0.8008      0.005    153.549      0.000       0.791       0.811\n",
      "h_ethnic_norm           -0.0177      0.008     -2.257      0.024      -0.033      -0.002\n",
      "avg_income_household    -0.0109      0.001    -10.603      0.000      -0.013      -0.009\n",
      "==============================================================================\n",
      "Omnibus:                      403.144   Durbin-Watson:                   0.703\n",
      "Prob(Omnibus):                  0.000   Jarque-Bera (JB):             3719.047\n",
      "Skew:                          -2.269   Prob(JB):                         0.00\n",
      "Kurtosis:                      12.952   Cond. No.                         14.8\n",
      "==============================================================================\n",
      "\n",
      "Notes:\n",
      "[1] Standard Errors assume that the covariance matrix of the errors is correctly specified.\n"
     ]
    }
   ],
   "source": [
    "formula = 'h_items_norm ~ h_ethnic_norm + avg_income_household'\n",
    "\n",
    "mod = smf.ols(formula=formula, data=norm_lin_reg_df)\n",
    "np.random.seed(2)\n",
    "res = mod.fit()\n",
    "print(res.summary())"
   ]
  },
  {
   "cell_type": "markdown",
   "metadata": {},
   "source": [
    "This time the impact of the ethnic diversity is significant."
   ]
  },
  {
   "cell_type": "markdown",
   "metadata": {},
   "source": [
    "Let's plot ethnic entropy in function of drink consumption entropy for all representative LSOA. In addition, let's performe a linear regression to predict the drink consumption entropy with only the ethnic entropy as explanatory variable."
   ]
  },
  {
   "cell_type": "code",
   "execution_count": 32,
   "metadata": {},
   "outputs": [
    {
     "data": {
      "image/png": "[encoded data removed]",
      "text/plain": [
       "<Figure size 432x288 with 1 Axes>"
      ]
     },
     "metadata": {},
     "output_type": "display_data"
    }
   ],
   "source": [
    "lin_reg_df.plot.scatter(x='h_ethnic_norm', y='h_items_drink_norm')\n",
    "plt.show()"
   ]
  },
  {
   "cell_type": "code",
   "execution_count": 33,
   "metadata": {},
   "outputs": [
    {
     "name": "stdout",
     "output_type": "stream",
     "text": [
      "                            OLS Regression Results                            \n",
      "==============================================================================\n",
      "Dep. Variable:     h_items_drink_norm   R-squared:                       0.032\n",
      "Model:                            OLS   Adj. R-squared:                  0.031\n",
      "Method:                 Least Squares   F-statistic:                     24.50\n",
      "Date:                Sun, 06 Dec 2020   Prob (F-statistic):           9.18e-07\n",
      "Time:                        18:39:36   Log-Likelihood:                 1860.8\n",
      "No. Observations:                 746   AIC:                            -3718.\n",
      "Df Residuals:                     744   BIC:                            -3708.\n",
      "Df Model:                           1                                         \n",
      "Covariance Type:            nonrobust                                         \n",
      "=================================================================================\n",
      "                    coef    std err          t      P>|t|      [0.025      0.975]\n",
      "---------------------------------------------------------------------------------\n",
      "Intercept         0.1861      0.004     49.501      0.000       0.179       0.193\n",
      "h_ethnic_norm     0.0277      0.006      4.950      0.000       0.017       0.039\n",
      "==============================================================================\n",
      "Omnibus:                      309.720   Durbin-Watson:                   1.264\n",
      "Prob(Omnibus):                  0.000   Jarque-Bera (JB):             3740.161\n",
      "Skew:                           1.524   Prob(JB):                         0.00\n",
      "Kurtosis:                      13.537   Cond. No.                         11.0\n",
      "==============================================================================\n",
      "\n",
      "Notes:\n",
      "[1] Standard Errors assume that the covariance matrix of the errors is correctly specified.\n"
     ]
    }
   ],
   "source": [
    "formula = 'h_items_drink_norm ~ h_ethnic_norm'\n",
    "\n",
    "mod = smf.ols(formula=formula, data=norm_lin_reg_df)\n",
    "np.random.seed(2)\n",
    "res = mod.fit()\n",
    "print(res.summary())"
   ]
  },
  {
   "cell_type": "markdown",
   "metadata": {},
   "source": [
    "Let's plot ethnic entropy in function of food consumption entropy for all representative LSOA. In addition, let's performe a linear regression to predict the food consumption entropy with only the ethnic entropy as explanatory variable."
   ]
  },
  {
   "cell_type": "code",
   "execution_count": 34,
   "metadata": {},
   "outputs": [
    {
     "data": {
      "image/png": "[encoded data removed]",
      "text/plain": [
       "<Figure size 432x288 with 1 Axes>"
      ]
     },
     "metadata": {},
     "output_type": "display_data"
    }
   ],
   "source": [
    "lin_reg_df.plot.scatter(x='h_ethnic_norm', y='h_items_food_norm')\n",
    "plt.show()"
   ]
  },
  {
   "cell_type": "code",
   "execution_count": 35,
   "metadata": {},
   "outputs": [
    {
     "name": "stdout",
     "output_type": "stream",
     "text": [
      "                            OLS Regression Results                            \n",
      "==============================================================================\n",
      "Dep. Variable:      h_items_food_norm   R-squared:                       0.017\n",
      "Model:                            OLS   Adj. R-squared:                  0.016\n",
      "Method:                 Least Squares   F-statistic:                     12.98\n",
      "Date:                Sun, 06 Dec 2020   Prob (F-statistic):           0.000336\n",
      "Time:                        18:39:37   Log-Likelihood:                 1742.3\n",
      "No. Observations:                 746   AIC:                            -3481.\n",
      "Df Residuals:                     744   BIC:                            -3471.\n",
      "Df Model:                           1                                         \n",
      "Covariance Type:            nonrobust                                         \n",
      "=================================================================================\n",
      "                    coef    std err          t      P>|t|      [0.025      0.975]\n",
      "---------------------------------------------------------------------------------\n",
      "Intercept         0.7642      0.004    173.442      0.000       0.756       0.773\n",
      "h_ethnic_norm     0.0236      0.007      3.603      0.000       0.011       0.037\n",
      "==============================================================================\n",
      "Omnibus:                      612.881   Durbin-Watson:                   0.729\n",
      "Prob(Omnibus):                  0.000   Jarque-Bera (JB):            16433.783\n",
      "Skew:                          -3.545   Prob(JB):                         0.00\n",
      "Kurtosis:                      24.873   Cond. No.                         11.0\n",
      "==============================================================================\n",
      "\n",
      "Notes:\n",
      "[1] Standard Errors assume that the covariance matrix of the errors is correctly specified.\n"
     ]
    }
   ],
   "source": [
    "formula = 'h_items_food_norm ~ h_ethnic_norm'\n",
    "\n",
    "mod = smf.ols(formula=formula, data=norm_lin_reg_df)\n",
    "np.random.seed(2)\n",
    "res = mod.fit()\n",
    "print(res.summary())"
   ]
  },
  {
   "cell_type": "markdown",
   "metadata": {},
   "source": [
    "In both cases (drink and food consumption entropies), the ethnic entropy has a small but significant effect when it is the only explanatory variable.\n",
    "\n",
    "These results could be interpreted in the following way: the ethnic entropy seems to have an effect on the food(/drink) consumption entropy when it is the only explanatory variable. However, when adding socio-economic factors in the analysis, the effect of ethnic entropy is not significant anymore. This seems to reveal that ethnic entropy and socio-economic factors as employment rate and average household revenue are correlated, and it is the socio-economic state of an area which determines its food/drink consumption entropy, not the ethnic entropy."
   ]
  },
  {
   "cell_type": "code",
   "execution_count": null,
   "metadata": {},
   "outputs": [],
   "source": []
  }
 ],
 "metadata": {
  "kernelspec": {
   "display_name": "Python (Geopandas_env) new try",
   "language": "python",
   "name": "geopandas_env"
  },
  "language_info": {
   "codemirror_mode": {
    "name": "ipython",
    "version": 3
   },
   "file_extension": ".py",
   "mimetype": "text/x-python",
   "name": "python",
   "nbconvert_exporter": "python",
   "pygments_lexer": "ipython3",
   "version": "3.8.2"
  }
 },
 "nbformat": 4,
 "nbformat_minor": 4
}
